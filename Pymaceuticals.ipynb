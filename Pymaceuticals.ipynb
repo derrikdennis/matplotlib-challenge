{
 "cells": [
  {
   "cell_type": "code",
   "execution_count": 13,
   "metadata": {},
   "outputs": [
    {
     "output_type": "execute_result",
     "data": {
      "text/plain": "  Mouse ID  Timepoint  Tumor Volume (mm3)  Metastatic Sites\n0     b128          0                45.0                 0\n1     f932          0                45.0                 0\n2     g107          0                45.0                 0\n3     a457          0                45.0                 0\n4     c819          0                45.0                 0",
      "text/html": "<div>\n<style scoped>\n    .dataframe tbody tr th:only-of-type {\n        vertical-align: middle;\n    }\n\n    .dataframe tbody tr th {\n        vertical-align: top;\n    }\n\n    .dataframe thead th {\n        text-align: right;\n    }\n</style>\n<table border=\"1\" class=\"dataframe\">\n  <thead>\n    <tr style=\"text-align: right;\">\n      <th></th>\n      <th>Mouse ID</th>\n      <th>Timepoint</th>\n      <th>Tumor Volume (mm3)</th>\n      <th>Metastatic Sites</th>\n    </tr>\n  </thead>\n  <tbody>\n    <tr>\n      <th>0</th>\n      <td>b128</td>\n      <td>0</td>\n      <td>45.0</td>\n      <td>0</td>\n    </tr>\n    <tr>\n      <th>1</th>\n      <td>f932</td>\n      <td>0</td>\n      <td>45.0</td>\n      <td>0</td>\n    </tr>\n    <tr>\n      <th>2</th>\n      <td>g107</td>\n      <td>0</td>\n      <td>45.0</td>\n      <td>0</td>\n    </tr>\n    <tr>\n      <th>3</th>\n      <td>a457</td>\n      <td>0</td>\n      <td>45.0</td>\n      <td>0</td>\n    </tr>\n    <tr>\n      <th>4</th>\n      <td>c819</td>\n      <td>0</td>\n      <td>45.0</td>\n      <td>0</td>\n    </tr>\n  </tbody>\n</table>\n</div>"
     },
     "metadata": {},
     "execution_count": 13
    }
   ],
   "source": [
    "# Dependencies and Setup\n",
    "import matplotlib.pyplot as plt\n",
    "import pandas as pd\n",
    "import scipy.stats as st\n",
    "import numpy as np  \n",
    "\n",
    "# Study data files\n",
    "mouse_metadata = \"data/Mouse_metadata.csv\"\n",
    "study_results = \"data/Study_results.csv\"\n",
    "\n",
    "# Read the mouse data and the study results\n",
    "mouse_metadata = pd.read_csv(mouse_metadata)\n",
    "study_results = pd.read_csv(study_results)\n",
    "\n",
    "# Combine the data into a single dataset\n",
    "mouse_metadata.head()\n",
    "study_results.head()"
   ]
  },
  {
   "cell_type": "code",
   "execution_count": 3,
   "metadata": {},
   "outputs": [
    {
     "output_type": "execute_result",
     "data": {
      "text/plain": "  Mouse ID Drug Regimen     Sex  Age_months  Weight (g)\n0     k403     Ramicane    Male          21          16\n1     s185    Capomulin  Female           3          17\n2     x401    Capomulin  Female          16          15\n3     m601    Capomulin    Male          22          17\n4     g791     Ramicane    Male          11          16",
      "text/html": "<div>\n<style scoped>\n    .dataframe tbody tr th:only-of-type {\n        vertical-align: middle;\n    }\n\n    .dataframe tbody tr th {\n        vertical-align: top;\n    }\n\n    .dataframe thead th {\n        text-align: right;\n    }\n</style>\n<table border=\"1\" class=\"dataframe\">\n  <thead>\n    <tr style=\"text-align: right;\">\n      <th></th>\n      <th>Mouse ID</th>\n      <th>Drug Regimen</th>\n      <th>Sex</th>\n      <th>Age_months</th>\n      <th>Weight (g)</th>\n    </tr>\n  </thead>\n  <tbody>\n    <tr>\n      <th>0</th>\n      <td>k403</td>\n      <td>Ramicane</td>\n      <td>Male</td>\n      <td>21</td>\n      <td>16</td>\n    </tr>\n    <tr>\n      <th>1</th>\n      <td>s185</td>\n      <td>Capomulin</td>\n      <td>Female</td>\n      <td>3</td>\n      <td>17</td>\n    </tr>\n    <tr>\n      <th>2</th>\n      <td>x401</td>\n      <td>Capomulin</td>\n      <td>Female</td>\n      <td>16</td>\n      <td>15</td>\n    </tr>\n    <tr>\n      <th>3</th>\n      <td>m601</td>\n      <td>Capomulin</td>\n      <td>Male</td>\n      <td>22</td>\n      <td>17</td>\n    </tr>\n    <tr>\n      <th>4</th>\n      <td>g791</td>\n      <td>Ramicane</td>\n      <td>Male</td>\n      <td>11</td>\n      <td>16</td>\n    </tr>\n  </tbody>\n</table>\n</div>"
     },
     "metadata": {},
     "execution_count": 3
    }
   ],
   "source": [
    "mouse_metadata.head()"
   ]
  },
  {
   "cell_type": "code",
   "execution_count": 8,
   "metadata": {},
   "outputs": [
    {
     "output_type": "execute_result",
     "data": {
      "text/plain": "Mouse ID              1893\nDrug Regimen          1893\nSex                   1893\nAge_months            1893\nWeight (g)            1893\nTimepoint             1893\nTumor Volume (mm3)    1893\nMetastatic Sites      1893\ndtype: int64"
     },
     "metadata": {},
     "execution_count": 8
    }
   ],
   "source": [
    "#Create a combined DataFrame\n",
    "combined_data = pd.merge(mouse_metadata,study_results,how=\"outer\", on=\"Mouse ID\")"
   ]
  },
  {
   "cell_type": "code",
   "execution_count": 22,
   "metadata": {},
   "outputs": [
    {
     "output_type": "execute_result",
     "data": {
      "text/plain": "              Mean Tumor Volume  Median Tumor Volume  Tumor Volume Variance  \\\nDrug Regimen                                                                  \nCapomulin             40.675741            41.557809              24.947764   \nCeftamin              52.591172            51.776157              39.290177   \nInfubinol             52.884795            51.820584              43.128684   \nKetapril              55.235638            53.698743              68.553577   \nNaftisol              54.331565            52.509285              66.173479   \nPlacebo               54.033581            52.288934              61.168083   \nPropriva              52.322552            50.854632              42.351070   \nRamicane              40.216745            40.673236              23.486704   \nStelasyn              54.233149            52.431737              59.450562   \nZoniferol             53.236507            51.818479              48.533355   \n\n              Tumor Volume Std Deviation  Tumor Vollume SEM  \nDrug Regimen                                                 \nCapomulin                       4.994774           0.329346  \nCeftamin                        6.268188           0.469821  \nInfubinol                       6.567243           0.492236  \nKetapril                        8.279709           0.603860  \nNaftisol                        8.134708           0.596466  \nPlacebo                         7.821003           0.581331  \nPropriva                        6.507770           0.512884  \nRamicane                        4.846308           0.320955  \nStelasyn                        7.710419           0.573111  \nZoniferol                       6.966589           0.516398  ",
      "text/html": "<div>\n<style scoped>\n    .dataframe tbody tr th:only-of-type {\n        vertical-align: middle;\n    }\n\n    .dataframe tbody tr th {\n        vertical-align: top;\n    }\n\n    .dataframe thead th {\n        text-align: right;\n    }\n</style>\n<table border=\"1\" class=\"dataframe\">\n  <thead>\n    <tr style=\"text-align: right;\">\n      <th></th>\n      <th>Mean Tumor Volume</th>\n      <th>Median Tumor Volume</th>\n      <th>Tumor Volume Variance</th>\n      <th>Tumor Volume Std Deviation</th>\n      <th>Tumor Vollume SEM</th>\n    </tr>\n    <tr>\n      <th>Drug Regimen</th>\n      <th></th>\n      <th></th>\n      <th></th>\n      <th></th>\n      <th></th>\n    </tr>\n  </thead>\n  <tbody>\n    <tr>\n      <th>Capomulin</th>\n      <td>40.675741</td>\n      <td>41.557809</td>\n      <td>24.947764</td>\n      <td>4.994774</td>\n      <td>0.329346</td>\n    </tr>\n    <tr>\n      <th>Ceftamin</th>\n      <td>52.591172</td>\n      <td>51.776157</td>\n      <td>39.290177</td>\n      <td>6.268188</td>\n      <td>0.469821</td>\n    </tr>\n    <tr>\n      <th>Infubinol</th>\n      <td>52.884795</td>\n      <td>51.820584</td>\n      <td>43.128684</td>\n      <td>6.567243</td>\n      <td>0.492236</td>\n    </tr>\n    <tr>\n      <th>Ketapril</th>\n      <td>55.235638</td>\n      <td>53.698743</td>\n      <td>68.553577</td>\n      <td>8.279709</td>\n      <td>0.603860</td>\n    </tr>\n    <tr>\n      <th>Naftisol</th>\n      <td>54.331565</td>\n      <td>52.509285</td>\n      <td>66.173479</td>\n      <td>8.134708</td>\n      <td>0.596466</td>\n    </tr>\n    <tr>\n      <th>Placebo</th>\n      <td>54.033581</td>\n      <td>52.288934</td>\n      <td>61.168083</td>\n      <td>7.821003</td>\n      <td>0.581331</td>\n    </tr>\n    <tr>\n      <th>Propriva</th>\n      <td>52.322552</td>\n      <td>50.854632</td>\n      <td>42.351070</td>\n      <td>6.507770</td>\n      <td>0.512884</td>\n    </tr>\n    <tr>\n      <th>Ramicane</th>\n      <td>40.216745</td>\n      <td>40.673236</td>\n      <td>23.486704</td>\n      <td>4.846308</td>\n      <td>0.320955</td>\n    </tr>\n    <tr>\n      <th>Stelasyn</th>\n      <td>54.233149</td>\n      <td>52.431737</td>\n      <td>59.450562</td>\n      <td>7.710419</td>\n      <td>0.573111</td>\n    </tr>\n    <tr>\n      <th>Zoniferol</th>\n      <td>53.236507</td>\n      <td>51.818479</td>\n      <td>48.533355</td>\n      <td>6.966589</td>\n      <td>0.516398</td>\n    </tr>\n  </tbody>\n</table>\n</div>"
     },
     "metadata": {},
     "execution_count": 22
    }
   ],
   "source": [
    "drug_regiment_group = combined_data.groupby(\"Drug Regimen\")\n",
    "\n",
    "avg_tumor_volume = drug_regiment_group['Tumor Volume (mm3)'].mean()\n",
    "median_tumor_volume = drug_regiment_group['Tumor Volume (mm3)'].median()\n",
    "var_tumor_volume = drug_regiment_group['Tumor Volume (mm3)'].var()  \n",
    "std_tumor_volume = drug_regiment_group['Tumor Volume (mm3)'].std()\n",
    "sem_tumor_volume = drug_regiment_group['Tumor Volume (mm3)'].sem()\n",
    "\n",
    "\n",
    "drug_stats_sum = pd.DataFrame({\"Mean Tumor Volume\": avg_tumor_volume,\n",
    "                               \"Median Tumor Volume\": median_tumor_volume,\n",
    "                               \"Tumor Volume Variance\": var_tumor_volume,\n",
    "                               \"Tumor Volume Std Deviation\": std_tumor_volume,\n",
    "                               \"Tumor Vollume SEM\" : sem_tumor_volume\n",
    "                               }\n",
    ")\n",
    "\n",
    "drug_stats_sum\n"
   ]
  },
  {
   "cell_type": "code",
   "execution_count": null,
   "metadata": {},
   "outputs": [],
   "source": []
  }
 ],
 "metadata": {
  "language_info": {
   "codemirror_mode": {
    "name": "ipython",
    "version": 3
   },
   "file_extension": ".py",
   "mimetype": "text/x-python",
   "name": "python",
   "nbconvert_exporter": "python",
   "pygments_lexer": "ipython3",
   "version": "3.6.10-final"
  },
  "orig_nbformat": 2,
  "kernelspec": {
   "name": "python361064bitmypythonenvironmentcondaa0e3df26c7ca46bf9ce15a15b0ee0368",
   "display_name": "Python 3.6.10 64-bit ('MyPythonEnvironment': conda)"
  }
 },
 "nbformat": 4,
 "nbformat_minor": 2
}